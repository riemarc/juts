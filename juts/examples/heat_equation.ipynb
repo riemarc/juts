{
 "cells": [
  {
   "cell_type": "code",
   "execution_count": null,
   "id": "0f4de486-ef2f-4d36-a79d-153efc66d7b7",
   "metadata": {
    "tags": []
   },
   "outputs": [],
   "source": [
    "import juts as jt\n",
    "import importlib\n",
    "import numpy as np\n",
    "import yaml\n",
    "from yamlordereddictloader import Dumper, Loader\n",
    "import ipyvolume as ipv\n",
    "import ipywidgets as iw"
   ]
  },
  {
   "cell_type": "code",
   "execution_count": null,
   "id": "393ed5de-5434-49ac-a695-74d2cf0ed575",
   "metadata": {
    "tags": []
   },
   "outputs": [],
   "source": [
    "with open(\"heat_equation_data.yml\", \"r\") as f:\n",
    "    data = yaml.load(f, Loader=Loader)\n",
    "\n",
    "def heat_equation(config, return_dict=None, process_queue=None):\n",
    "    return_dict.update(dict(system=data[\"system\"], observer=data[\"observer\"], desired=data[\"desired\"]))"
   ]
  },
  {
   "cell_type": "code",
   "execution_count": null,
   "id": "7ab5f849-b633-46e0-a9c4-9d3fbcc86494",
   "metadata": {
    "tags": []
   },
   "outputs": [],
   "source": [
    "class SurfacePlot(jt.Plot):\n",
    "    def __init__(self, jobs):\n",
    "        jobs_valid = len(jobs) == 1\n",
    "        widget = iw.Tab()\n",
    "        super().__init__(jobs, widget, jobs_valid=jobs_valid)\n",
    "    \n",
    "    def update_plot(self):\n",
    "        figs = list()\n",
    "        i = 0\n",
    "        for key in self.jobs[0].result:\n",
    "            data = self.jobs[0].result[key]\n",
    "            figs.append(ipv.figure())\n",
    "            x = data[0]\n",
    "            y = data[1]\n",
    "            xx, yy = np.meshgrid(x, y)\n",
    "            mesh = ipv.plot_surface(xx, np.array(data[2]).transpose(), yy)\n",
    "            self.widget.children = figs\n",
    "            self.widget.set_title(i, key + \" x(z,t)\")\n",
    "            i += 1"
   ]
  },
  {
   "cell_type": "code",
   "execution_count": null,
   "id": "f72e2955-1307-4329-9c29-0febe76b93ca",
   "metadata": {
    "tags": []
   },
   "outputs": [],
   "source": [
    "config = jt.load_configs_from_dict(dict(empty_config=dict(dummy=dict())))[0]\n",
    "ui = jt.UserInterface()\n",
    "ui.scheduler.add_config(config)\n",
    "ui.scheduler.add_function(heat_equation)\n",
    "ui.visualizer.add_plot_widget(SurfacePlot)\n",
    "ui.set_auto_add_to_visu()\n",
    "ui"
   ]
  },
  {
   "cell_type": "code",
   "execution_count": null,
   "id": "d1446159-9b3d-48d5-b0f9-2681645dcd65",
   "metadata": {},
   "outputs": [],
   "source": []
  }
 ],
 "metadata": {
  "kernelspec": {
   "display_name": "Python 3 (ipykernel)",
   "language": "python",
   "name": "python3"
  },
  "language_info": {
   "codemirror_mode": {
    "name": "ipython",
    "version": 3
   },
   "file_extension": ".py",
   "mimetype": "text/x-python",
   "name": "python",
   "nbconvert_exporter": "python",
   "pygments_lexer": "ipython3",
   "version": "3.11.3"
  }
 },
 "nbformat": 4,
 "nbformat_minor": 5
}
