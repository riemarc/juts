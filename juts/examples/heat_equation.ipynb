{
 "cells": [
  {
   "cell_type": "code",
   "execution_count": null,
   "metadata": {},
   "outputs": [],
   "source": [
    "from pyinduct.examples.rad_eq_diri_symbolic.simulation import main\n",
    "import juts as jt\n",
    "import importlib\n",
    "import numpy as np\n",
    "import ipyvolume as ipv\n",
    "import ipywidgets as iw"
   ]
  },
  {
   "cell_type": "code",
   "execution_count": null,
   "metadata": {},
   "outputs": [],
   "source": [
    "def heat_equation(config, return_dict=None, process_queue=None):\n",
    "    data = main()\n",
    "    return_dict.update(dict(data=data))"
   ]
  },
  {
   "cell_type": "code",
   "execution_count": null,
   "metadata": {},
   "outputs": [],
   "source": [
    "class SurfacePlot(jt.Plot):\n",
    "    def __init__(self, jobs):\n",
    "        jobs_valid = len(jobs) == 1\n",
    "        widget = iw.Tab()\n",
    "        super().__init__(jobs, widget, jobs_valid=jobs_valid)\n",
    "    \n",
    "    def update_plot(self):\n",
    "        figs = list()\n",
    "        for eval_data in self.jobs[0].result[\"data\"]:\n",
    "            figs.append(ipv.figure())\n",
    "            x, y = eval_data.input_data\n",
    "            xx, yy = np.meshgrid(x.points, y.points)\n",
    "            mesh = ipv.plot_surface(xx, eval_data.output_data.transpose(), yy)\n",
    "        \n",
    "        self.widget.children = figs\n",
    "        self.widget.set_title(0, \"x(z,t)\")\n",
    "        self.widget.set_title(1, \"x'(z,t)\")"
   ]
  },
  {
   "cell_type": "code",
   "execution_count": null,
   "metadata": {},
   "outputs": [],
   "source": [
    "ui = jt.UserInterface()\n",
    "ui.add_config(heat_equation, dict(heat_equation=dict(dummy=dict())))\n",
    "ui.add_visualizer(SurfacePlot)\n",
    "ui"
   ]
  },
  {
   "cell_type": "code",
   "execution_count": null,
   "metadata": {},
   "outputs": [],
   "source": []
  }
 ],
 "metadata": {
  "kernelspec": {
   "display_name": "base",
   "language": "python",
   "name": "base"
  },
  "language_info": {
   "codemirror_mode": {
    "name": "ipython",
    "version": 3
   },
   "file_extension": ".py",
   "mimetype": "text/x-python",
   "name": "python",
   "nbconvert_exporter": "python",
   "pygments_lexer": "ipython3",
   "version": "3.6.6"
  },
  "toc": {
   "base_numbering": 1,
   "nav_menu": {},
   "number_sections": false,
   "sideBar": false,
   "skip_h1_title": false,
   "title_cell": "Table of Contents",
   "title_sidebar": "Contents",
   "toc_cell": false,
   "toc_position": {},
   "toc_section_display": false,
   "toc_window_display": false
  }
 },
 "nbformat": 4,
 "nbformat_minor": 2
}
