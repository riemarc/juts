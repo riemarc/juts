{
 "cells": [
  {
   "cell_type": "code",
   "execution_count": null,
   "metadata": {
    "hideCode": false,
    "hidePrompt": false,
    "init_cell": true,
    "slideshow": {
     "slide_type": "skip"
    },
    "tags": []
   },
   "outputs": [],
   "source": [
    "import time\n",
    "from juts import UserInterface\n",
    "import time"
   ]
  },
  {
   "cell_type": "code",
   "execution_count": null,
   "metadata": {
    "init_cell": true,
    "slideshow": {
     "slide_type": "slide"
    },
    "tags": []
   },
   "outputs": [],
   "source": [
    "def wait_n_times_x_ms(config, process_queue=None, return_dict=None):\n",
    "    n = config[\"parameter\"][\"n\"]\n",
    "    x = config[\"parameter\"][\"x\"]\n",
    "    \n",
    "    for i in range(n):\n",
    "        process_queue.put(dict(progress=int(i/n * 100)))\n",
    "        \n",
    "        time.sleep(x)\n",
    "    \n",
    "    return_dict.update(dict(a = 1, b=2))\n",
    "    print(\"done\")"
   ]
  },
  {
   "cell_type": "code",
   "execution_count": null,
   "metadata": {
    "slideshow": {
     "slide_type": "slide"
    },
    "tags": []
   },
   "outputs": [],
   "source": [
    "ui = UserInterface()\n",
    "ui.add_config(wait_n_times_x_ms, configfile=\"wait_n_times_x_ms.yml\")\n",
    "ui"
   ]
  }
 ],
 "metadata": {
  "celltoolbar": "Hide code",
  "hide_code_all_hidden": false,
  "kernelspec": {
   "display_name": "Python 3 (ipykernel)",
   "language": "python",
   "name": "python3"
  },
  "language_info": {
   "codemirror_mode": {
    "name": "ipython",
    "version": 3
   },
   "file_extension": ".py",
   "mimetype": "text/x-python",
   "name": "python",
   "nbconvert_exporter": "python",
   "pygments_lexer": "ipython3",
   "version": "3.11.3"
  },
  "rise": {
   "overlay": "<div class='header'><img style='width:10%; margin-left:3%; margin-top:1.8%;' align='left' src='logo_iace.svg'/><img style='width:10%; margin-right:3%; margin-top:2%;' align='right' src='logo_umit.svg'/></div>"
  },
  "toc": {
   "base_numbering": 1,
   "nav_menu": {},
   "number_sections": false,
   "sideBar": true,
   "skip_h1_title": false,
   "title_cell": "Table of Contents",
   "title_sidebar": "Contents",
   "toc_cell": false,
   "toc_position": {
    "height": "371.264px",
    "left": "10px",
    "top": "150px",
    "width": "165px"
   },
   "toc_section_display": true,
   "toc_window_display": false
  }
 },
 "nbformat": 4,
 "nbformat_minor": 4
}
