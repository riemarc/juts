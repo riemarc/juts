{
 "cells": [
  {
   "cell_type": "code",
   "execution_count": null,
   "id": "a4bde149-9943-402f-abf1-856172b11cd4",
   "metadata": {
    "tags": []
   },
   "outputs": [],
   "source": [
    "import time\n",
    "from juts import UserInterface, load_configs_from_file, TimeSeriesPlot\n",
    "import time as tim"
   ]
  },
  {
   "cell_type": "code",
   "execution_count": null,
   "id": "aa3aa23c-da19-4640-8d88-0dc914d03818",
   "metadata": {
    "tags": []
   },
   "outputs": [],
   "source": [
    "def wait_n_times_x_ms(config, process_queue=None, return_dict=None):\n",
    "    n = config[\"parameter\"][\"n\"]\n",
    "    x = config[\"parameter\"][\"x\"]\n",
    "    \n",
    "    time = list()\n",
    "    time_series = list()\n",
    "    for i in range(n):\n",
    "        time.append(i)\n",
    "        time_series.append(i / x)\n",
    "        \n",
    "        process_queue.put(dict(progress=int(i/n * 100),\n",
    "                               time=i,\n",
    "                               time_series=i/x))\n",
    "        tim.sleep(x)\n",
    "    \n",
    "    return_dict.update(dict(a=1,\n",
    "                            b=2,\n",
    "                            time=time,\n",
    "                            time_series=time_series))\n",
    "    print(\"done\")"
   ]
  },
  {
   "cell_type": "code",
   "execution_count": null,
   "id": "56419e84-0476-4760-8985-77e142d91133",
   "metadata": {
    "tags": []
   },
   "outputs": [],
   "source": [
    "ui = UserInterface()\n",
    "ui.scheduler.add_configs(load_configs_from_file(\"wait_n_times_x_ms.yml\"))\n",
    "ui.scheduler.add_function(wait_n_times_x_ms)\n",
    "ui.visualizer.add_plot_widget(TimeSeriesPlot)\n",
    "ui.set_auto_add_to_visu()\n",
    "ui"
   ]
  },
  {
   "cell_type": "code",
   "execution_count": null,
   "id": "457263c1-743f-4d5f-9869-9701c72bbc11",
   "metadata": {},
   "outputs": [],
   "source": []
  }
 ],
 "metadata": {
  "kernelspec": {
   "display_name": "Python 3 (ipykernel)",
   "language": "python",
   "name": "python3"
  },
  "language_info": {
   "codemirror_mode": {
    "name": "ipython",
    "version": 3
   },
   "file_extension": ".py",
   "mimetype": "text/x-python",
   "name": "python",
   "nbconvert_exporter": "python",
   "pygments_lexer": "ipython3",
   "version": "3.11.3"
  }
 },
 "nbformat": 4,
 "nbformat_minor": 5
}
